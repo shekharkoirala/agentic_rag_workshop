{
 "cells": [
  {
   "cell_type": "markdown",
   "metadata": {},
   "source": [
    "### Fix the setup\n",
    "\n",
    "##### Open Terminal, it is below the cpu logo on the right panel in lightning ai\n",
    "\n",
    "##### Install ollama\n",
    "\n",
    "```curl -fsSL https://ollama.com/install.sh | sh```\n",
    "\n",
    "##### Pull ollama model, llama 3.2 or qwen2.5-coder\n",
    "\n",
    "```ollama pull qwen2.5-coder:7b```\n",
    "\n",
    "##### Download uv\n",
    "\n",
    "```curl -LsSf https://astral.sh/uv/install.sh | sh```\n",
    "\n",
    "##### Create venv using uv\n",
    "\n",
    "```! uv venv --python 3.10```\n",
    "\n",
    "##### Activate the environment\n",
    "``` source .venv/bin/activate```\n",
    "\n",
    "##### Install the packages in the Terminal\n",
    "```uv pip install jupyterlab langchain langchain_core langchain_ollama psutil speedtest-cli```"
   ]
  },
  {
   "cell_type": "code",
   "execution_count": null,
   "metadata": {},
   "outputs": [],
   "source": []
  },
  {
   "cell_type": "code",
   "execution_count": 1,
   "metadata": {},
   "outputs": [],
   "source": [
    "import shutil\n",
    "import sys\n",
    "from datetime import datetime\n",
    "from zoneinfo import ZoneInfo\n",
    "from langchain_core.messages import HumanMessage, ToolMessage\n",
    "from langchain_core.tools import tool\n",
    "from langchain_ollama import ChatOllama\n",
    "\n",
    "\n",
    "messages = []\n",
    "\n",
    "@tool(parse_docstring=True)\n",
    "def get_disk_usage():\n",
    "    \"\"\"Retrieves disk usage. Call this whenever you need to know the disk usage, for example when a customer asks \"What is the disk usage?\"\n",
    "    Args: None\n",
    "\n",
    "    Returns:\n",
    "        dict: A dictionary containing disk usage statistics with the following keys:\n",
    "            - total (str): Total disk space in GB\n",
    "            - used (str): Used disk space in GB\n",
    "            - free (str): Free disk space in GB\n",
    "    \"\"\"\n",
    "    path = \"/\"\n",
    "    total, used, free = shutil.disk_usage(path)\n",
    "    gb = 1024 * 1024 * 1024\n",
    "\n",
    "    return {\n",
    "        \"total\": f\"{total / gb:.2f} GB\",\n",
    "        \"used\": f\"{used / gb:.2f} GB\",\n",
    "        \"free\": f\"{free / gb:.2f} GB\",\n",
    "    }"
   ]
  },
  {
   "cell_type": "code",
   "execution_count": 2,
   "metadata": {},
   "outputs": [
    {
     "name": "stdout",
     "output_type": "stream",
     "text": [
      "cpu_usage 50.5\n",
      "memory_usage {'total': '15.34 GB', 'used': '2.39 GB', 'free': '1.88 GB'}\n",
      "uptime 0:04:53.732463\n",
      "os_info: {'os_name': 'Linux', 'os_version': '#77~20.04.1-Ubuntu SMP Thu Oct 3 19:39:59 UTC 2024', 'kernel_version': '5.15.0-1071-aws'}\n"
     ]
    }
   ],
   "source": [
    "# You can implement one of the following options: \n",
    "import os\n",
    "import psutil\n",
    "import shutil\n",
    "import socket\n",
    "import platform\n",
    "import subprocess\n",
    "from datetime import datetime\n",
    "\n",
    "# cpu usage\n",
    "cpu_usage = psutil.cpu_percent(interval=1)  # CPU usage in percentage.\n",
    "print(f\"cpu_usage\", cpu_usage)\n",
    "\n",
    "# memory\n",
    "memory_info = psutil.virtual_memory()\n",
    "memory_usage = {\n",
    "    \"total\": f\"{memory_info.total / (1024 ** 3):.2f} GB\",\n",
    "    \"used\": f\"{memory_info.used / (1024 ** 3):.2f} GB\",\n",
    "    \"free\": f\"{memory_info.free / (1024 ** 3):.2f} GB\",\n",
    "}\n",
    "print(f\"memory_usage\", memory_usage)\n",
    "\n",
    "#uptime\n",
    "uptime = datetime.now() - datetime.fromtimestamp(psutil.boot_time())  # System uptime.\n",
    "print(f\"uptime\", uptime)\n",
    "\n",
    "\n",
    "#os info\n",
    "os_info = {\n",
    "    \"os_name\": platform.system(),\n",
    "    \"os_version\": platform.version(),\n",
    "    \"kernel_version\": platform.release(),\n",
    "}\n",
    "print(f\"os_info: {os_info}\")\n",
    "\n",
    "\n",
    "# timezone based time\n",
    "# e.g., 'America/New_York'\n",
    "try:\n",
    "    current_time = datetime.now(ZoneInfo(timezone_name))\n",
    "    # return current_time.strftime(\"%Y-%m-%d %H:%M:%S %Z\")\n",
    "except Exception as e:\n",
    "    pass\n",
    "    # return f\"Error: Invalid timezone: {str(e)}\""
   ]
  },
  {
   "cell_type": "code",
   "execution_count": 155,
   "metadata": {},
   "outputs": [],
   "source": [
    "#think of anything , do chatgpt and try to implement\n",
    "\n",
    "import speedtest\n",
    "\n",
    "@tool(parse_docstring=True)\n",
    "def get_wifi_speed():\n",
    "    \"\"\"Retrieves wifi speed. Call this whenever you need to know the wifi speed, for example when a customer asks \"What is the wifi speed?\" or \"How fast is internet?\"\n",
    "    Args: None\n",
    "\n",
    "    Returns:\n",
    "        dict: A dictionary containing wifi speed statistics with the following keys:\n",
    "            - download_speed_mbps (str): Total download speed in Mbps\n",
    "            - upload_speed_mbps (str): Total upload speed in Mbps\n",
    "    \"\"\"\n",
    "    # Initialize the Speedtest client\n",
    "    st = speedtest.Speedtest()\n",
    "    \n",
    "    # Fetch the best server\n",
    "    st.get_best_server()\n",
    "    \n",
    "    # Measure download and upload speeds\n",
    "    download_speed = st.download() / (1024 * 1024) \n",
    "    upload_speed = st.upload() / (1024 * 1024) \n",
    "    \n",
    "    # Return results\n",
    "    return {\n",
    "        \"download_speed_mbps\": f\"{download_speed:.2f} Mbps\",\n",
    "        \"upload_speed_mbps\": f\"{upload_speed:.2f} Mbps\"\n",
    "    }\n"
   ]
  },
  {
   "cell_type": "code",
   "execution_count": 156,
   "metadata": {},
   "outputs": [],
   "source": [
    "\n",
    "tools_list = {\n",
    "    \"get_disk_usage\": get_disk_usage,\n",
    "    \"get_wifi_speed\": get_wifi_speed,\n",
    "    \n",
    "}\n",
    "\n",
    "# Initialize LLM\n",
    "llm = ChatOllama(model=\"qwen2.5-coder:7b\")\n",
    "llm_with_tools = llm.bind_tools(list(tools_list.values()))"
   ]
  },
  {
   "cell_type": "code",
   "execution_count": 181,
   "metadata": {},
   "outputs": [
    {
     "data": {
      "text/plain": [
       "[{'name': 'get_wifi_speed',\n",
       "  'args': {},\n",
       "  'id': '7dcb7c30-522e-4682-a922-8c2156424873',\n",
       "  'type': 'tool_call'}]"
      ]
     },
     "execution_count": 181,
     "metadata": {},
     "output_type": "execute_result"
    }
   ],
   "source": [
    "messages =[]\n",
    "prompt = \"How is the internet today? \"\n",
    "messages.append(HumanMessage(prompt))\n",
    "ai_response = llm_with_tools.invoke(messages)\n",
    "ai_response.tool_calls"
   ]
  },
  {
   "cell_type": "code",
   "execution_count": 183,
   "metadata": {},
   "outputs": [
    {
     "data": {
      "text/plain": [
       "[{'name': 'get_wifi_speed',\n",
       "  'args': {},\n",
       "  'id': 'df2410ac-afdc-4d43-a736-9cd262b0ebf1',\n",
       "  'type': 'tool_call'}]"
      ]
     },
     "execution_count": 183,
     "metadata": {},
     "output_type": "execute_result"
    }
   ],
   "source": [
    "messages = [] \n",
    "prompt = \"I want to download 500 GB of data from Youtube, can I download it within 2 hour ?\"\n",
    "messages.append(HumanMessage(prompt))\n",
    "ai_response = llm_with_tools.invoke(messages)\n",
    "ai_response.tool_calls"
   ]
  },
  {
   "cell_type": "code",
   "execution_count": 184,
   "metadata": {},
   "outputs": [
    {
     "data": {
      "text/plain": [
       "[{'name': 'get_wifi_speed',\n",
       "  'args': {},\n",
       "  'id': 'ca953f0b-b077-4106-bf85-d576dc6ea69e',\n",
       "  'type': 'tool_call'},\n",
       " {'name': 'get_disk_usage',\n",
       "  'args': {},\n",
       "  'id': 'ad84925a-cd19-453a-9659-77a771e4f344',\n",
       "  'type': 'tool_call'}]"
      ]
     },
     "execution_count": 184,
     "metadata": {},
     "output_type": "execute_result"
    }
   ],
   "source": [
    "messages = [] \n",
    "prompt = \"I want to download 500 GB of data from Youtube, can I download it in small machine ?\"\n",
    "messages.append(HumanMessage(prompt))\n",
    "ai_response = llm_with_tools.invoke(messages)\n",
    "ai_response.tool_calls"
   ]
  },
  {
   "cell_type": "code",
   "execution_count": 185,
   "metadata": {},
   "outputs": [
    {
     "data": {
      "text/plain": [
       "[{'name': 'get_disk_usage',\n",
       "  'args': {},\n",
       "  'id': '35bde50a-33f4-4dbd-afb8-e01a9eaf9e46',\n",
       "  'type': 'tool_call'},\n",
       " {'name': 'get_wifi_speed',\n",
       "  'args': {},\n",
       "  'id': '8fb40cdf-0e82-4d45-a331-f0fd568fdb86',\n",
       "  'type': 'tool_call'}]"
      ]
     },
     "execution_count": 185,
     "metadata": {},
     "output_type": "execute_result"
    }
   ],
   "source": [
    "messages = [] \n",
    "prompt = \"I want to download 500 GB of data from Youtube, can I download it in my machine without any time limit?\"\n",
    "messages.append(HumanMessage(prompt))\n",
    "ai_response = llm_with_tools.invoke(messages)\n",
    "ai_response.tool_calls"
   ]
  },
  {
   "cell_type": "code",
   "execution_count": 186,
   "metadata": {},
   "outputs": [
    {
     "name": "stdout",
     "output_type": "stream",
     "text": [
      "name='get_disk_usage' description='Retrieves disk usage. Call this whenever you need to know the disk usage, for example when a customer asks \"What is the disk usage?\"\\nArgs: None' args_schema=<class 'langchain_core.utils.pydantic.get_disk_usage'> func=<function get_disk_usage at 0x7f2ba3a07b50> {'name': 'get_disk_usage', 'args': {}, 'id': '35bde50a-33f4-4dbd-afb8-e01a9eaf9e46', 'type': 'tool_call'}\n",
      "name='get_wifi_speed' description='Retrieves wifi speed. Call this whenever you need to know the wifi speed, for example when a customer asks \"What is the wifi speed?\" or \"How fast is internet?\"\\nArgs: None' args_schema=<class 'langchain_core.utils.pydantic.get_wifi_speed'> func=<function get_wifi_speed at 0x7f2ba3a05870> {'name': 'get_wifi_speed', 'args': {}, 'id': '8fb40cdf-0e82-4d45-a331-f0fd568fdb86', 'type': 'tool_call'}\n"
     ]
    }
   ],
   "source": [
    "# Handle AI response\n",
    "if not ai_response.tool_calls:\n",
    "    print(\"\\nAI Response:\")\n",
    "    print(ai_response.content)\n",
    "\n",
    "# Execute tool calls if any\n",
    "for tool_call in ai_response.tool_calls:\n",
    "    selected_tool = tools_list.get(tool_call[\"name\"].lower())\n",
    "    if selected_tool:\n",
    "        print(selected_tool, tool_call)\n",
    "        tool_response = selected_tool.invoke(tool_call[\"args\"])\n",
    "        messages.append(ToolMessage(tool_response, tool_call_id=tool_call[\"id\"]))\n",
    "    else:\n",
    "        print(f\"Error: Tool '{tool_call['name']}' not found.\")"
   ]
  },
  {
   "cell_type": "code",
   "execution_count": 188,
   "metadata": {},
   "outputs": [
    {
     "name": "stdout",
     "output_type": "stream",
     "text": [
      "\n",
      "Final AI Response:\n",
      "content='<response>\\n    \"message\": \"Based on the provided information, you have 471.09 GB of free disk space and a download speed of 2.57 Mbps. Downloading 500 GB of data might exceed your available disk space, but it depends on your internet speed. If your download speed is faster than your upload speed, you should be able to complete the download without any time limit. However, if your download speed is slower than your upload speed, it could take longer or may not even be possible to start the download due to network limitations.\"\\n</response>' additional_kwargs={} response_metadata={'model': 'qwen2.5-coder:7b', 'created_at': '2024-11-16T23:29:25.344353792Z', 'message': {'role': 'assistant', 'content': '<response>\\n    \"message\": \"Based on the provided information, you have 471.09 GB of free disk space and a download speed of 2.57 Mbps. Downloading 500 GB of data might exceed your available disk space, but it depends on your internet speed. If your download speed is faster than your upload speed, you should be able to complete the download without any time limit. However, if your download speed is slower than your upload speed, it could take longer or may not even be possible to start the download due to network limitations.\"\\n</response>'}, 'done_reason': 'stop', 'done': True, 'total_duration': 3111511553, 'load_duration': 15815195, 'prompt_eval_count': 353, 'prompt_eval_duration': 17000000, 'eval_count': 124, 'eval_duration': 3054000000} id='run-6bb55dec-8b0d-4748-914c-197406a365a8' usage_metadata={'input_tokens': 353, 'output_tokens': 124, 'total_tokens': 477}\n",
      "\n"
     ]
    }
   ],
   "source": [
    "# Stream the final response\n",
    "print(\"\\nFinal AI Response:\")\n",
    "final_response = llm_with_tools.stream(messages)\n",
    "for part in final_response:\n",
    "    print(part, end=\"\")\n",
    "print(\"\\n\")"
   ]
  },
  {
   "cell_type": "code",
   "execution_count": 197,
   "metadata": {},
   "outputs": [
    {
     "data": {
      "text/plain": [
       "'<response>\\n    \"message\": \"Based on the provided information, you have 471.09 GB of free disk space and a download speed of 2.57 Mbps. Downloading 500 GB of data might exceed your available disk space, but it depends on your internet speed. If your download speed is faster than your upload speed, you should be able to complete the download without any time limit. However, if your download speed is slower than your upload speed, it could take longer or may not even be possible to start the download due to network limitations.\"\\n</response>'"
      ]
     },
     "execution_count": 197,
     "metadata": {},
     "output_type": "execute_result"
    }
   ],
   "source": [
    "part.content"
   ]
  },
  {
   "cell_type": "code",
   "execution_count": null,
   "metadata": {},
   "outputs": [],
   "source": []
  }
 ],
 "metadata": {
  "language_info": {
   "name": "python"
  }
 },
 "nbformat": 4,
 "nbformat_minor": 2
}
